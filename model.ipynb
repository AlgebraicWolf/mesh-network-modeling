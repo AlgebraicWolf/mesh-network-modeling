{
 "cells": [
  {
   "cell_type": "markdown",
   "id": "fewer-machinery",
   "metadata": {},
   "source": [
    "# Ad-hoc network model \n",
    "## Imports"
   ]
  },
  {
   "cell_type": "code",
   "execution_count": 2,
   "id": "breeding-stockholm",
   "metadata": {},
   "outputs": [],
   "source": [
    "import numpy as np\n",
    "import pandas as pd \n",
    "import ipywidgets as widgets\n",
    "import tqdm\n",
    "\n",
    "\n",
    "from time import sleep"
   ]
  },
  {
   "cell_type": "markdown",
   "id": "international-technician",
   "metadata": {},
   "source": [
    "## Loading data"
   ]
  },
  {
   "cell_type": "code",
   "execution_count": 3,
   "id": "radical-honolulu",
   "metadata": {},
   "outputs": [
    {
     "data": {
      "application/vnd.jupyter.widget-view+json": {
       "model_id": "9b786411a11b407a8faef0e77c27d10e",
       "version_major": 2,
       "version_minor": 0
      },
      "text/plain": [
       "Text(value='', placeholder='Path to .csv file')"
      ]
     },
     "metadata": {},
     "output_type": "display_data"
    }
   ],
   "source": [
    "csv_path = widgets.Text(placeholder=\"Path to .csv file\")\n",
    "display(csv_path)"
   ]
  },
  {
   "cell_type": "code",
   "execution_count": 5,
   "id": "coated-belly",
   "metadata": {},
   "outputs": [
    {
     "data": {
      "text/html": [
       "<div>\n",
       "<style scoped>\n",
       "    .dataframe tbody tr th:only-of-type {\n",
       "        vertical-align: middle;\n",
       "    }\n",
       "\n",
       "    .dataframe tbody tr th {\n",
       "        vertical-align: top;\n",
       "    }\n",
       "\n",
       "    .dataframe thead th {\n",
       "        text-align: right;\n",
       "    }\n",
       "</style>\n",
       "<table border=\"1\" class=\"dataframe\">\n",
       "  <thead>\n",
       "    <tr style=\"text-align: right;\">\n",
       "      <th></th>\n",
       "      <th>id</th>\n",
       "      <th>timestamp</th>\n",
       "      <th>x</th>\n",
       "      <th>y</th>\n",
       "      <th>z</th>\n",
       "    </tr>\n",
       "  </thead>\n",
       "  <tbody>\n",
       "    <tr>\n",
       "      <th>0</th>\n",
       "      <td>534018</td>\n",
       "      <td>0</td>\n",
       "      <td>-37.115440</td>\n",
       "      <td>-1462.569946</td>\n",
       "      <td>-100.000000</td>\n",
       "    </tr>\n",
       "    <tr>\n",
       "      <th>1</th>\n",
       "      <td>544258</td>\n",
       "      <td>0</td>\n",
       "      <td>-37.027275</td>\n",
       "      <td>-1462.423096</td>\n",
       "      <td>-100.000000</td>\n",
       "    </tr>\n",
       "    <tr>\n",
       "      <th>2</th>\n",
       "      <td>517122</td>\n",
       "      <td>0</td>\n",
       "      <td>39.134022</td>\n",
       "      <td>-1488.308350</td>\n",
       "      <td>28.503515</td>\n",
       "    </tr>\n",
       "    <tr>\n",
       "      <th>3</th>\n",
       "      <td>2818</td>\n",
       "      <td>0</td>\n",
       "      <td>-11.323400</td>\n",
       "      <td>-1440.091431</td>\n",
       "      <td>31.578899</td>\n",
       "    </tr>\n",
       "    <tr>\n",
       "      <th>4</th>\n",
       "      <td>296962</td>\n",
       "      <td>0</td>\n",
       "      <td>-194.265503</td>\n",
       "      <td>-1672.670654</td>\n",
       "      <td>33.570766</td>\n",
       "    </tr>\n",
       "  </tbody>\n",
       "</table>\n",
       "</div>"
      ],
      "text/plain": [
       "       id  timestamp           x            y           z\n",
       "0  534018          0  -37.115440 -1462.569946 -100.000000\n",
       "1  544258          0  -37.027275 -1462.423096 -100.000000\n",
       "2  517122          0   39.134022 -1488.308350   28.503515\n",
       "3    2818          0  -11.323400 -1440.091431   31.578899\n",
       "4  296962          0 -194.265503 -1672.670654   33.570766"
      ]
     },
     "execution_count": 5,
     "metadata": {},
     "output_type": "execute_result"
    }
   ],
   "source": [
    "data = pd.read_csv(csv_path.value)\n",
    "data.head()"
   ]
  },
  {
   "cell_type": "markdown",
   "id": "spatial-debut",
   "metadata": {},
   "source": [
    "## Preprocessing\n",
    "\n",
    "The goal here is to filter redundant objects (for example, objects that are currently chilling in the object pool) and split data into small pieces by the timeframe "
   ]
  },
  {
   "cell_type": "code",
   "execution_count": 6,
   "id": "incorporate-diamond",
   "metadata": {},
   "outputs": [],
   "source": [
    "filtered_data = data[data.z != -100.0] # Preserve only the objects that are currently somewhere on the map\n",
    "\n",
    "frames = filtered_data.groupby('timestamp') # Group data into dataframes with equal timestamp, now each group is a snapshot of a moment in time during recording\n",
    "group_keys = frames.groups.keys() # Now we can iterate over groups"
   ]
  },
  {
   "cell_type": "markdown",
   "id": "adjacent-directory",
   "metadata": {
    "tags": []
   },
   "source": [
    "## Model setup"
   ]
  },
  {
   "cell_type": "code",
   "execution_count": 7,
   "id": "rotary-pierce",
   "metadata": {},
   "outputs": [
    {
     "data": {
      "application/vnd.jupyter.widget-view+json": {
       "model_id": "9e77547533944280a3f1e014c4dde6ed",
       "version_major": 2,
       "version_minor": 0
      },
      "text/plain": [
       "BoundedFloatText(value=0.0, description='Distance:', max=1000.0, step=1.0)"
      ]
     },
     "metadata": {},
     "output_type": "display_data"
    }
   ],
   "source": [
    "# TODO widget for parameter initialization\n",
    "# Proposed parameters are: Connectivity distance, something about message generation frequency, ???\n",
    "connectivity_dist = widgets.BoundedFloatText(\n",
    "    text = 0.0,\n",
    "    min = 0.0,\n",
    "    max = 1000.0,\n",
    "    step = 1,\n",
    "    description = \"Distance:\",\n",
    "    disabled = False)\n",
    "\n",
    "display(connectivity_dist)"
   ]
  },
  {
   "cell_type": "markdown",
   "id": "random-shanghai",
   "metadata": {},
   "source": [
    "## Your actor implementation"
   ]
  },
  {
   "cell_type": "code",
   "execution_count": 73,
   "id": "white-manitoba",
   "metadata": {},
   "outputs": [],
   "source": [
    "# TODO Come up with actor interface \n",
    "# TODO implement actor. It should be capable of handling high-level shit like sending message to other use and low-level shit like routing messages inside the network\n",
    "# Are there obvious and correct implementation of the high-level functions that is irrelevant to the protocol of choice? If there is, we should implement them independently of the algo impl (via inheritance)\n",
    "class Actor:\n",
    "    def __init__():\n",
    "        pass"
   ]
  },
  {
   "cell_type": "markdown",
   "id": "protected-deficit",
   "metadata": {},
   "source": [
    "## Model running"
   ]
  },
  {
   "cell_type": "code",
   "execution_count": 25,
   "id": "fatty-mumbai",
   "metadata": {},
   "outputs": [
    {
     "data": {
      "application/vnd.jupyter.widget-view+json": {
       "model_id": "df9ecbb5f4e74175ac1678f740ebe81f",
       "version_major": 2,
       "version_minor": 0
      },
      "text/plain": [
       "  0%|          | 0/618 [00:00<?, ?it/s]"
      ]
     },
     "metadata": {},
     "output_type": "display_data"
    }
   ],
   "source": [
    "# TODO run model, accumulate some statistics\n",
    "# Proposed stats are: \n",
    "# 1. Connection stability (stability metric could be connection lifetime divided over the simulation length) equipped with standard stat tools (mean, stdev, median, possibly distribution, smth else)\n",
    "# 2. Stats on message delivery efficiency (percentage of successful deliveries, for instance)\n",
    "\n",
    "# Calculate distance between two people\n",
    "def distance(p1, p2):\n",
    "    return ((p1.x - p2.x) * (p1.x - p2.x) + (p1.y - p2.y) * (p1.y - p2.y) + (p1.z - p2.z) * (p1.z - p2.z)) ** (1/2)\n",
    "\n",
    "# Initialize structures for collecting adjacency data\n",
    "ids = filtered_data['id'].unique() # IDs of users\n",
    "\n",
    "def first(i, j):\n",
    "    return min(ids[i], ids[j])\n",
    "\n",
    "def second(i, j):\n",
    "    return max(ids[i], ids[j])\n",
    "\n",
    "# Structure that contains info regarding whether two people were previously connected with one another (Timeframe of connection launch, None otherwise)\n",
    "connected = dict()\n",
    "\n",
    "for cur_id in ids:\n",
    "    connected[cur_id] = dict()\n",
    "\n",
    "for i in range(len(ids)):\n",
    "    for j in range(i + 1, len(ids)): # Iterate over the distinct pairs of people\n",
    "        connected[first(i, j)][second(i, j)] = None # Initialize all pairs as not connected\n",
    "        \n",
    "# Structure that contains info about each connection (two connections between the same two people are distinct iff there exists a snapshot where they aren't connected)\n",
    "# The sequence A <-> B, A <-> B, A <-/-> B, A <-> B contains two connections between A and B\n",
    "connections = list() \n",
    "prev_timestamp = 0\n",
    "\n",
    "\n",
    "# Nested loops go brrrr (Can we parallelize this piece of shit? Even a little bit?)\n",
    "for timestamp in tqdm.notebook.tqdm(group_keys): # Iterating over timestamp\n",
    "    # TODO calculate connections between different people in the current timeframe\n",
    "    snapshot = frames.get_group(timestamp) # Get a snapshot of a timestamp\n",
    "    \n",
    "    current_connectivity = dict()\n",
    "    for cur_id in ids:\n",
    "        current_connectivity[cur_id] = dict()\n",
    "        \n",
    "    for i in range(len(ids)):\n",
    "        for j in range(i + 1, len(ids)):\n",
    "            current_connectivity[first(i, j)][second(i, j)] = False\n",
    "    \n",
    "    \n",
    "    for i in range(snapshot.shape[0]):\n",
    "        for j in range(i + 1, snapshot.shape[0]): # Iterate over distinct ordered pairs of people \n",
    "            p1 = snapshot.iloc[i]\n",
    "            p2 = snapshot.iloc[j]\n",
    "            dist = distance(p1, p2)\n",
    "            if dist < connectivity_dist.value: # If there is connection present\n",
    "                current_connectivity[min(p1.id, p2.id)][max(p1.id, p2.id)] = True # Mark it is connected\n",
    "#             elif connected[min(p1.id, p2.id)][max(p1.id, p2.id)] is not None: # Otherwise, if there was a connection, but it is not present anymore \n",
    "#                 connections.append({'p1': i, 'p2': j, \"timestamp\": timestamp, 'lifespan': prev_timestamp - connected[i][j]}) # Add information about a connection that is now over\n",
    "#                 connected[i][j] = None # Delete connection\n",
    "\n",
    "    for i in range(len(ids)):\n",
    "        for j in range(i + 1, len(ids)):\n",
    "            a = first(i, j)\n",
    "            b = second(i, j)\n",
    "            \n",
    "            if current_connectivity[a][b]: # If a connection is present \n",
    "#                 print(\"There is a connection!\")\n",
    "                if connected[a][b] is None: # And it is a new one\n",
    "                    connected[a][b] = timestamp # Add it\n",
    "            elif connected[a][b] is not None: # Otherwise, if the conneciton had just died \n",
    "                connections.append({'p1': a, 'p2': b, 'timestamp': connected[a][b], 'lifespan': prev_timestamp - connected[a][b]}) # Record connection stats\n",
    "#                 print(\"Added connection info\")\n",
    "                current_connectivity[a][b] = None # Delete connection\n",
    "    # Now iterate over all the ids in order to figure out the connections that were dropped out \n",
    "    \n",
    "    # TODO check for new/removed connections and update lifetime accordingly\n",
    "    \n",
    "    # TODO run shit like message requests etc and call according functions of the actors\n",
    "    # Possibly (somehow?) add message throughput limit so that the graph updates would actually influence message routing procedure. Should prolly discuss the best implementation with other project participants.\n",
    "    prev_timestamp = timestamp\n",
    "    pass\n",
    "\n",
    "# Close all the connections that are still present\n",
    "for i in range(len(ids)):\n",
    "    for j in range(i + 1, len(ids)):\n",
    "        a = first(i, j)\n",
    "        b = second(i, j)\n",
    "        \n",
    "        if connected[a][b] is not None:\n",
    "            connections.append({'p1': a, 'p2': b, 'timestamp': connected[a][b], 'lifespan': prev_timestamp - connected[a][b]}) # Record connection stats\n",
    "#             print(\"Added connection info\")\n",
    "            connected[a][b] = None"
   ]
  },
  {
   "cell_type": "markdown",
   "id": "veterinary-groove",
   "metadata": {},
   "source": [
    "#### Statistics"
   ]
  },
  {
   "cell_type": "code",
   "execution_count": null,
   "id": "willing-baseball",
   "metadata": {},
   "outputs": [],
   "source": [
    "# TODO Show collected stats "
   ]
  },
  {
   "cell_type": "code",
   "execution_count": null,
   "id": "amended-attack",
   "metadata": {},
   "outputs": [],
   "source": [
    "connected"
   ]
  },
  {
   "cell_type": "code",
   "execution_count": 26,
   "id": "scenic-hopkins",
   "metadata": {},
   "outputs": [],
   "source": [
    "conn_data = pd.DataFrame(connections)"
   ]
  },
  {
   "cell_type": "code",
   "execution_count": 27,
   "id": "correct-mitchell",
   "metadata": {},
   "outputs": [
    {
     "data": {
      "text/plain": [
       "p1           575090.467904\n",
       "p2           616653.399670\n",
       "timestamp    116563.083026\n",
       "lifespan     101012.197080\n",
       "dtype: float64"
      ]
     },
     "execution_count": 27,
     "metadata": {},
     "output_type": "execute_result"
    }
   ],
   "source": [
    "conn_data.mean()"
   ]
  },
  {
   "cell_type": "code",
   "execution_count": 98,
   "id": "derived-firewall",
   "metadata": {},
   "outputs": [],
   "source": [
    "connections = pd.DataFrame(columns=['p1', 'p2', 'timestamp', 'lifespan'])"
   ]
  },
  {
   "cell_type": "code",
   "execution_count": 32,
   "id": "prescription-sample",
   "metadata": {},
   "outputs": [
    {
     "data": {
      "text/plain": [
       "0.3208767471410419"
      ]
     },
     "execution_count": 32,
     "metadata": {},
     "output_type": "execute_result"
    }
   ],
   "source": [
    "101012/314800"
   ]
  },
  {
   "cell_type": "code",
   "execution_count": 33,
   "id": "hispanic-equipment",
   "metadata": {},
   "outputs": [
    {
     "data": {
      "text/plain": [
       "570"
      ]
     },
     "execution_count": 33,
     "metadata": {},
     "output_type": "execute_result"
    }
   ],
   "source": [
    "len(ids)"
   ]
  },
  {
   "cell_type": "code",
   "execution_count": 13,
   "id": "statutory-tonight",
   "metadata": {},
   "outputs": [],
   "source": [
    "a = list()\n",
    "a.append(10)"
   ]
  },
  {
   "cell_type": "code",
   "execution_count": 14,
   "id": "african-association",
   "metadata": {},
   "outputs": [
    {
     "data": {
      "text/plain": [
       "[10]"
      ]
     },
     "execution_count": 14,
     "metadata": {},
     "output_type": "execute_result"
    }
   ],
   "source": [
    "a"
   ]
  },
  {
   "cell_type": "code",
   "execution_count": null,
   "id": "fifty-kernel",
   "metadata": {},
   "outputs": [],
   "source": []
  }
 ],
 "metadata": {
  "kernelspec": {
   "display_name": "Python 3",
   "language": "python",
   "name": "python3"
  },
  "language_info": {
   "codemirror_mode": {
    "name": "ipython",
    "version": 3
   },
   "file_extension": ".py",
   "mimetype": "text/x-python",
   "name": "python",
   "nbconvert_exporter": "python",
   "pygments_lexer": "ipython3",
   "version": "3.9.1"
  }
 },
 "nbformat": 4,
 "nbformat_minor": 5
}
