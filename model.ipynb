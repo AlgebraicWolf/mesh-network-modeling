{
 "cells": [
  {
   "cell_type": "markdown",
   "id": "laden-plain",
   "metadata": {},
   "source": [
    "# Ad-hoc network model \n",
    "## Imports"
   ]
  },
  {
   "cell_type": "code",
   "execution_count": 19,
   "id": "worthy-overhead",
   "metadata": {},
   "outputs": [],
   "source": [
    "import numpy as np\n",
    "import pandas as pd \n",
    "import ipywidgets as widgets\n",
    "import seaborn as sns\n",
    "import matplotlib.pyplot as plt\n",
    "from tqdm.notebook import tqdm\n",
    "\n",
    "\n",
    "from time import sleep"
   ]
  },
  {
   "cell_type": "markdown",
   "id": "agreed-raise",
   "metadata": {},
   "source": [
    "## Loading data"
   ]
  },
  {
   "cell_type": "code",
   "execution_count": 2,
   "id": "false-tongue",
   "metadata": {},
   "outputs": [
    {
     "data": {
      "application/vnd.jupyter.widget-view+json": {
       "model_id": "19dea80f749a4b5f84392a4798cbbfc6",
       "version_major": 2,
       "version_minor": 0
      },
      "text/plain": [
       "Text(value='', placeholder='Path to .csv file')"
      ]
     },
     "metadata": {},
     "output_type": "display_data"
    }
   ],
   "source": [
    "csv_path = widgets.Text(placeholder=\"Path to .csv file\")\n",
    "display(csv_path)"
   ]
  },
  {
   "cell_type": "code",
   "execution_count": 3,
   "id": "expensive-article",
   "metadata": {},
   "outputs": [
    {
     "data": {
      "text/html": [
       "<div>\n",
       "<style scoped>\n",
       "    .dataframe tbody tr th:only-of-type {\n",
       "        vertical-align: middle;\n",
       "    }\n",
       "\n",
       "    .dataframe tbody tr th {\n",
       "        vertical-align: top;\n",
       "    }\n",
       "\n",
       "    .dataframe thead th {\n",
       "        text-align: right;\n",
       "    }\n",
       "</style>\n",
       "<table border=\"1\" class=\"dataframe\">\n",
       "  <thead>\n",
       "    <tr style=\"text-align: right;\">\n",
       "      <th></th>\n",
       "      <th>id</th>\n",
       "      <th>timestamp</th>\n",
       "      <th>x</th>\n",
       "      <th>y</th>\n",
       "      <th>z</th>\n",
       "    </tr>\n",
       "  </thead>\n",
       "  <tbody>\n",
       "    <tr>\n",
       "      <th>0</th>\n",
       "      <td>391682</td>\n",
       "      <td>0</td>\n",
       "      <td>-1665.491089</td>\n",
       "      <td>-1024.396973</td>\n",
       "      <td>13.027639</td>\n",
       "    </tr>\n",
       "    <tr>\n",
       "      <th>1</th>\n",
       "      <td>382466</td>\n",
       "      <td>0</td>\n",
       "      <td>-1641.333496</td>\n",
       "      <td>-1046.010132</td>\n",
       "      <td>13.311988</td>\n",
       "    </tr>\n",
       "    <tr>\n",
       "      <th>2</th>\n",
       "      <td>321538</td>\n",
       "      <td>0</td>\n",
       "      <td>-1646.880615</td>\n",
       "      <td>-1135.291992</td>\n",
       "      <td>13.017241</td>\n",
       "    </tr>\n",
       "    <tr>\n",
       "      <th>3</th>\n",
       "      <td>326914</td>\n",
       "      <td>0</td>\n",
       "      <td>-1674.772217</td>\n",
       "      <td>-1046.162231</td>\n",
       "      <td>13.037983</td>\n",
       "    </tr>\n",
       "    <tr>\n",
       "      <th>4</th>\n",
       "      <td>334594</td>\n",
       "      <td>0</td>\n",
       "      <td>-1647.783081</td>\n",
       "      <td>-1125.910034</td>\n",
       "      <td>18.341614</td>\n",
       "    </tr>\n",
       "  </tbody>\n",
       "</table>\n",
       "</div>"
      ],
      "text/plain": [
       "       id  timestamp            x            y          z\n",
       "0  391682          0 -1665.491089 -1024.396973  13.027639\n",
       "1  382466          0 -1641.333496 -1046.010132  13.311988\n",
       "2  321538          0 -1646.880615 -1135.291992  13.017241\n",
       "3  326914          0 -1674.772217 -1046.162231  13.037983\n",
       "4  334594          0 -1647.783081 -1125.910034  18.341614"
      ]
     },
     "execution_count": 3,
     "metadata": {},
     "output_type": "execute_result"
    }
   ],
   "source": [
    "data = pd.read_csv(csv_path.value)\n",
    "data.head()"
   ]
  },
  {
   "cell_type": "markdown",
   "id": "historic-addition",
   "metadata": {},
   "source": [
    "## Preprocessing\n",
    "\n",
    "The goal here is to filter redundant objects (for example, objects that are currently chilling in the object pool) and split data into small pieces by the timeframe "
   ]
  },
  {
   "cell_type": "code",
   "execution_count": 4,
   "id": "selective-charge",
   "metadata": {},
   "outputs": [],
   "source": [
    "filtered_data = data[data.z != -100.0] # Preserve only the objects that are currently somewhere on the map\n",
    "\n",
    "frames = filtered_data.groupby('timestamp') # Group data into dataframes with equal timestamp, now each group is a snapshot of a moment in time during recording\n",
    "group_keys = frames.groups.keys() # Now we can iterate over groups"
   ]
  },
  {
   "cell_type": "markdown",
   "id": "collected-monster",
   "metadata": {
    "tags": []
   },
   "source": [
    "## Model setup"
   ]
  },
  {
   "cell_type": "code",
   "execution_count": 5,
   "id": "square-freeware",
   "metadata": {},
   "outputs": [
    {
     "data": {
      "application/vnd.jupyter.widget-view+json": {
       "model_id": "221afc3ea9924c8b800e81dd52714620",
       "version_major": 2,
       "version_minor": 0
      },
      "text/plain": [
       "BoundedFloatText(value=0.0, description='Distance:', max=1000.0, step=1.0)"
      ]
     },
     "metadata": {},
     "output_type": "display_data"
    }
   ],
   "source": [
    "# TODO widget for parameter initialization\n",
    "# Proposed parameters are: Connectivity distance, something about message generation frequency, ???\n",
    "connectivity_dist = widgets.BoundedFloatText(\n",
    "    text = 0.0,\n",
    "    min = 0.0,\n",
    "    max = 1000.0,\n",
    "    step = 1,\n",
    "    description = \"Distance:\",\n",
    "    disabled = False)\n",
    "\n",
    "display(connectivity_dist)"
   ]
  },
  {
   "cell_type": "markdown",
   "id": "approved-round",
   "metadata": {},
   "source": [
    "## Your actor implementation"
   ]
  },
  {
   "cell_type": "code",
   "execution_count": 6,
   "id": "spatial-slovakia",
   "metadata": {},
   "outputs": [],
   "source": [
    "# TODO Come up with actor interface \n",
    "# TODO implement actor. It should be capable of handling high-level shit like sending message to other use and low-level shit like routing messages inside the network\n",
    "# Are there obvious and correct implementation of the high-level functions that is irrelevant to the protocol of choice? If there is, we should implement them independently of the algo impl (via inheritance)\n",
    "class Actor:\n",
    "    def __init__():\n",
    "        pass"
   ]
  },
  {
   "cell_type": "markdown",
   "id": "working-footage",
   "metadata": {},
   "source": [
    "## Model running"
   ]
  },
  {
   "cell_type": "code",
   "execution_count": 9,
   "id": "following-cache",
   "metadata": {},
   "outputs": [
    {
     "data": {
      "application/vnd.jupyter.widget-view+json": {
       "model_id": "0d8f566f14ff44b7830534d4dc598d8e",
       "version_major": 2,
       "version_minor": 0
      },
      "text/plain": [
       "  0%|          | 0/618 [00:00<?, ?it/s]"
      ]
     },
     "metadata": {},
     "output_type": "display_data"
    }
   ],
   "source": [
    "# TODO run model, accumulate some statistics\n",
    "# Proposed stats are: \n",
    "# 1. Connection stability (stability metric could be connection lifetime divided over the simulation length) equipped with standard stat tools (mean, stdev, median, possibly distribution, smth else)\n",
    "# 2. Stats on message delivery efficiency (percentage of successful deliveries, for instance)\n",
    "\n",
    "# TODO wrap everything up in a function, possibly use something like futures in order to parallelize computations for different datasets, in order to allow for parallel processing of many datasets in order to speed up the whole thing\n",
    "\n",
    "# Calculate distance between two people\n",
    "def distance(p1, p2):\n",
    "    return ((p1.x - p2.x) * (p1.x - p2.x) + (p1.y - p2.y) * (p1.y - p2.y) + (p1.z - p2.z) * (p1.z - p2.z)) ** (1/2)\n",
    "\n",
    "# Initialize structures for collecting adjacency data\n",
    "ids = filtered_data['id'].unique() # IDs of users\n",
    "\n",
    "def first(i, j):\n",
    "    return min(ids[i], ids[j])\n",
    "\n",
    "def second(i, j):\n",
    "    return max(ids[i], ids[j])\n",
    "\n",
    "# Structure that contains info regarding whether two people were previously connected with one another (Timeframe of connection launch, None otherwise)\n",
    "connected = dict()\n",
    "\n",
    "for cur_id in ids:\n",
    "    connected[cur_id] = dict()\n",
    "\n",
    "for i in range(len(ids)):\n",
    "    for j in range(i + 1, len(ids)): # Iterate over the distinct pairs of people\n",
    "        connected[first(i, j)][second(i, j)] = None # Initialize all pairs as not connected\n",
    "        \n",
    "# Structure that contains info about each connection (two connections between the same two people are distinct iff there exists a snapshot where they aren't connected)\n",
    "# The sequence A <-> B, A <-> B, A <-/-> B, A <-> B contains two connections between A and B\n",
    "connections = list() \n",
    "prev_timestamp = 0\n",
    "\n",
    "# Nested loops go brrrr (Can we parallelize this piece of shit? Even a little bit?)\n",
    "for timestamp in tqdm(group_keys): # Iterating over timestamp\n",
    "    # TODO calculate connections between different people in the current timeframe\n",
    "    snapshot = frames.get_group(timestamp) # Get a snapshot of a timestamp\n",
    "    \n",
    "    current_connectivity = dict()\n",
    "    for cur_id in ids:\n",
    "        current_connectivity[cur_id] = dict()\n",
    "        \n",
    "    for i in range(len(ids)):\n",
    "        for j in range(i + 1, len(ids)):\n",
    "            current_connectivity[first(i, j)][second(i, j)] = False\n",
    "    \n",
    "    \n",
    "    for i in range(snapshot.shape[0]):\n",
    "        for j in range(i + 1, snapshot.shape[0]): # Iterate over distinct ordered pairs of people \n",
    "            p1 = snapshot.iloc[i]\n",
    "            p2 = snapshot.iloc[j]\n",
    "            dist = distance(p1, p2)\n",
    "            if dist < connectivity_dist.value: # If there is connection present\n",
    "                current_connectivity[min(p1.id, p2.id)][max(p1.id, p2.id)] = True # Mark it is connected\n",
    "\n",
    "    for i in range(len(ids)):\n",
    "        for j in range(i + 1, len(ids)):\n",
    "            a = first(i, j)\n",
    "            b = second(i, j)\n",
    "            \n",
    "            if current_connectivity[a][b]: # If a connection is present \n",
    "                if connected[a][b] is None: # And it is a new one\n",
    "                    connected[a][b] = timestamp # Add it\n",
    "            elif connected[a][b] is not None: # Otherwise, if the conneciton had just died \n",
    "                connections.append({'p1': a, 'p2': b, 'timestamp': connected[a][b], 'lifespan': prev_timestamp - connected[a][b]}) # Record connection stats\n",
    "                current_connectivity[a][b] = None # Delete connection\n",
    "    # Now iterate over all the ids in order to figure out the connections that were dropped out \n",
    "    \n",
    "    # TODO check for new/removed connections and update lifetime accordingly\n",
    "    # TODO run shit like message requests etc and call according functions of the actors\n",
    "    # Possibly (somehow?) add message throughput limit so that the graph updates would actually influence message routing procedure. Should prolly discuss the best implementation with other project participants.\n",
    "    prev_timestamp = timestamp\n",
    "    pass\n",
    "\n",
    "# Close all the connections that are still present\n",
    "for i in range(len(ids)):\n",
    "    for j in range(i + 1, len(ids)):\n",
    "        a = first(i, j)\n",
    "        b = second(i, j)\n",
    "        \n",
    "        if connected[a][b] is not None:\n",
    "            connections.append({'p1': a, 'p2': b, 'timestamp': connected[a][b], 'lifespan': prev_timestamp - connected[a][b]}) # Record connection stats\n",
    "#             print(\"Added connection info\")\n",
    "            connected[a][b] = None"
   ]
  },
  {
   "cell_type": "markdown",
   "id": "typical-african",
   "metadata": {},
   "source": [
    "#### Statistics"
   ]
  },
  {
   "cell_type": "code",
   "execution_count": 15,
   "id": "sufficient-louisville",
   "metadata": {},
   "outputs": [],
   "source": [
    "# TODO Show collected stats \n",
    "conn_data = pd.DataFrame(connections)\n"
   ]
  },
  {
   "cell_type": "code",
   "execution_count": 49,
   "id": "diverse-business",
   "metadata": {},
   "outputs": [
    {
     "name": "stdout",
     "output_type": "stream",
     "text": [
      "Mean lifespan: 138955.66567189345\n",
      "lifespan stdev: 75691.58794445814\n"
     ]
    },
    {
     "data": {
      "image/png": "[encoded data removed]",
      "text/plain": [
       "<Figure size 720x576 with 1 Axes>"
      ]
     },
     "metadata": {},
     "output_type": "display_data"
    }
   ],
   "source": [
    "plt.figure(figsize=(10, 8), facecolor=None)\n",
    "plt.style.use(\"dark_background\")\n",
    "sns.histplot(conn_data, x=\"lifespan\")\n",
    "\n",
    "mean_lifespan = conn_data['lifespan'].mean()\n",
    "median_lifespan = conn_data['lifespan'].median()\n",
    "stdev_lifespan = conn_data['lifespan'].std()\n",
    "\n",
    "plt.axvline(mean_lifespan, color=\"r\")\n",
    "plt.axvline(median_lifespan, color=\"lime\")\n",
    "plt.axvline(mode_lifespan, color=\"b\")\n",
    "\n",
    "print(\"Mean lifespan:\", mean_lifespan)\n",
    "print(\"lifespan stdev:\", stdev_lifespan)"
   ]
  },
  {
   "cell_type": "code",
   "execution_count": 45,
   "id": "domestic-helping",
   "metadata": {},
   "outputs": [
    {
     "data": {
      "text/html": [
       "<div>\n",
       "<style scoped>\n",
       "    .dataframe tbody tr th:only-of-type {\n",
       "        vertical-align: middle;\n",
       "    }\n",
       "\n",
       "    .dataframe tbody tr th {\n",
       "        vertical-align: top;\n",
       "    }\n",
       "\n",
       "    .dataframe thead th {\n",
       "        text-align: right;\n",
       "    }\n",
       "</style>\n",
       "<table border=\"1\" class=\"dataframe\">\n",
       "  <thead>\n",
       "    <tr style=\"text-align: right;\">\n",
       "      <th></th>\n",
       "      <th>p1</th>\n",
       "      <th>p2</th>\n",
       "      <th>timestamp</th>\n",
       "      <th>lifespan</th>\n",
       "    </tr>\n",
       "  </thead>\n",
       "  <tbody>\n",
       "    <tr>\n",
       "      <th>0</th>\n",
       "      <td>326914</td>\n",
       "      <td>392706</td>\n",
       "      <td>0</td>\n",
       "      <td>285266</td>\n",
       "    </tr>\n",
       "  </tbody>\n",
       "</table>\n",
       "</div>"
      ],
      "text/plain": [
       "       p1      p2  timestamp  lifespan\n",
       "0  326914  392706          0    285266"
      ]
     },
     "execution_count": 45,
     "metadata": {},
     "output_type": "execute_result"
    }
   ],
   "source": [
    "conn_data.mode()"
   ]
  },
  {
   "cell_type": "code",
   "execution_count": 53,
   "id": "covered-aaron",
   "metadata": {},
   "outputs": [
    {
     "data": {
      "text/plain": [
       "0"
      ]
     },
     "execution_count": 53,
     "metadata": {},
     "output_type": "execute_result"
    }
   ],
   "source": [
    "conn_data[conn_data.lifespan == 50000].size"
   ]
  },
  {
   "cell_type": "code",
   "execution_count": 98,
   "id": "happy-appliance",
   "metadata": {},
   "outputs": [],
   "source": [
    "conn_data"
   ]
  },
  {
   "cell_type": "code",
   "execution_count": 32,
   "id": "forbidden-chicken",
   "metadata": {},
   "outputs": [
    {
     "data": {
      "text/plain": [
       "0.3208767471410419"
      ]
     },
     "execution_count": 32,
     "metadata": {},
     "output_type": "execute_result"
    }
   ],
   "source": [
    "101012/314800"
   ]
  },
  {
   "cell_type": "code",
   "execution_count": 33,
   "id": "attached-eugene",
   "metadata": {},
   "outputs": [
    {
     "data": {
      "text/plain": [
       "570"
      ]
     },
     "execution_count": 33,
     "metadata": {},
     "output_type": "execute_result"
    }
   ],
   "source": [
    "len(ids)"
   ]
  },
  {
   "cell_type": "code",
   "execution_count": 13,
   "id": "pretty-ribbon",
   "metadata": {},
   "outputs": [],
   "source": [
    "a = list()\n",
    "a.append(10)"
   ]
  },
  {
   "cell_type": "code",
   "execution_count": 14,
   "id": "athletic-primary",
   "metadata": {},
   "outputs": [
    {
     "data": {
      "text/plain": [
       "[10]"
      ]
     },
     "execution_count": 14,
     "metadata": {},
     "output_type": "execute_result"
    }
   ],
   "source": [
    "a"
   ]
  },
  {
   "cell_type": "code",
   "execution_count": null,
   "id": "amazing-delicious",
   "metadata": {},
   "outputs": [],
   "source": []
  }
 ],
 "metadata": {
  "kernelspec": {
   "display_name": "Python 3",
   "language": "python",
   "name": "python3"
  },
  "language_info": {
   "codemirror_mode": {
    "name": "ipython",
    "version": 3
   },
   "file_extension": ".py",
   "mimetype": "text/x-python",
   "name": "python",
   "nbconvert_exporter": "python",
   "pygments_lexer": "ipython3",
   "version": "3.9.1"
  }
 },
 "nbformat": 4,
 "nbformat_minor": 5
}
