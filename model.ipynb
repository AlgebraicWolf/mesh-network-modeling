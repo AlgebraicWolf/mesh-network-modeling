{
 "cells": [
  {
   "cell_type": "markdown",
   "id": "annoying-positive",
   "metadata": {},
   "source": [
    "# Ad-hoc network model \n",
    "## Imports"
   ]
  },
  {
   "cell_type": "code",
   "execution_count": 54,
   "id": "unusual-acrylic",
   "metadata": {},
   "outputs": [],
   "source": [
    "import numpy as np\n",
    "import pandas as pd \n",
    "import ipywidgets as widgets\n",
    "import tqdm\n",
    "\n",
    "\n",
    "from time import sleep"
   ]
  },
  {
   "cell_type": "markdown",
   "id": "english-offense",
   "metadata": {},
   "source": [
    "## Loading data"
   ]
  },
  {
   "cell_type": "code",
   "execution_count": 7,
   "id": "located-lobby",
   "metadata": {},
   "outputs": [
    {
     "data": {
      "application/vnd.jupyter.widget-view+json": {
       "model_id": "77bdae9ddeeb42d19fbafc90d1ab3ef0",
       "version_major": 2,
       "version_minor": 0
      },
      "text/plain": [
       "Text(value='', placeholder='Path to .csv file')"
      ]
     },
     "metadata": {},
     "output_type": "display_data"
    }
   ],
   "source": [
    "csv_path = widgets.Text(placeholder=\"Path to .csv file\")\n",
    "display(csv_path)"
   ]
  },
  {
   "cell_type": "code",
   "execution_count": 13,
   "id": "mineral-project",
   "metadata": {},
   "outputs": [
    {
     "data": {
      "text/html": [
       "<div>\n",
       "<style scoped>\n",
       "    .dataframe tbody tr th:only-of-type {\n",
       "        vertical-align: middle;\n",
       "    }\n",
       "\n",
       "    .dataframe tbody tr th {\n",
       "        vertical-align: top;\n",
       "    }\n",
       "\n",
       "    .dataframe thead th {\n",
       "        text-align: right;\n",
       "    }\n",
       "</style>\n",
       "<table border=\"1\" class=\"dataframe\">\n",
       "  <thead>\n",
       "    <tr style=\"text-align: right;\">\n",
       "      <th></th>\n",
       "      <th>id</th>\n",
       "      <th>timestamp</th>\n",
       "      <th>x</th>\n",
       "      <th>y</th>\n",
       "      <th>z</th>\n",
       "    </tr>\n",
       "  </thead>\n",
       "  <tbody>\n",
       "    <tr>\n",
       "      <th>0</th>\n",
       "      <td>534018</td>\n",
       "      <td>0</td>\n",
       "      <td>-37.115440</td>\n",
       "      <td>-1462.569946</td>\n",
       "      <td>-100.000000</td>\n",
       "    </tr>\n",
       "    <tr>\n",
       "      <th>1</th>\n",
       "      <td>544258</td>\n",
       "      <td>0</td>\n",
       "      <td>-37.027275</td>\n",
       "      <td>-1462.423096</td>\n",
       "      <td>-100.000000</td>\n",
       "    </tr>\n",
       "    <tr>\n",
       "      <th>2</th>\n",
       "      <td>517122</td>\n",
       "      <td>0</td>\n",
       "      <td>39.134022</td>\n",
       "      <td>-1488.308350</td>\n",
       "      <td>28.503515</td>\n",
       "    </tr>\n",
       "    <tr>\n",
       "      <th>3</th>\n",
       "      <td>2818</td>\n",
       "      <td>0</td>\n",
       "      <td>-11.323400</td>\n",
       "      <td>-1440.091431</td>\n",
       "      <td>31.578899</td>\n",
       "    </tr>\n",
       "    <tr>\n",
       "      <th>4</th>\n",
       "      <td>296962</td>\n",
       "      <td>0</td>\n",
       "      <td>-194.265503</td>\n",
       "      <td>-1672.670654</td>\n",
       "      <td>33.570766</td>\n",
       "    </tr>\n",
       "  </tbody>\n",
       "</table>\n",
       "</div>"
      ],
      "text/plain": [
       "       id  timestamp           x            y           z\n",
       "0  534018          0  -37.115440 -1462.569946 -100.000000\n",
       "1  544258          0  -37.027275 -1462.423096 -100.000000\n",
       "2  517122          0   39.134022 -1488.308350   28.503515\n",
       "3    2818          0  -11.323400 -1440.091431   31.578899\n",
       "4  296962          0 -194.265503 -1672.670654   33.570766"
      ]
     },
     "execution_count": 13,
     "metadata": {},
     "output_type": "execute_result"
    }
   ],
   "source": [
    "data = pd.read_csv(csv_path.value)\n",
    "data.head()"
   ]
  },
  {
   "cell_type": "markdown",
   "id": "effective-might",
   "metadata": {},
   "source": [
    "## Preprocessing\n",
    "\n",
    "The goal here is to filter redundant objects (for example, objects that are currently chilling in the object pool) and split data into small pieces by the timeframe "
   ]
  },
  {
   "cell_type": "code",
   "execution_count": 42,
   "id": "signal-plymouth",
   "metadata": {},
   "outputs": [],
   "source": [
    "filtered_data = data[data.z != -100.0] # Preserve only the objects that are currently somewhere on the map\n",
    "\n",
    "frames = filtered_data.groupby('timestamp') # Group data into dataframes with equal timestamp, now each group is a snapshot of a moment in time during recording\n",
    "group_keys = frames.groups.keys() # Now we can iterate over groups"
   ]
  },
  {
   "cell_type": "markdown",
   "id": "uniform-theory",
   "metadata": {
    "tags": []
   },
   "source": [
    "## Model setup"
   ]
  },
  {
   "cell_type": "code",
   "execution_count": null,
   "id": "tender-senegal",
   "metadata": {},
   "outputs": [],
   "source": [
    "# TODO widget for parameter initialization\n",
    "# Proposed parameters are: Connectivity distance, something about message generation frequency, ???"
   ]
  },
  {
   "cell_type": "markdown",
   "id": "fresh-palace",
   "metadata": {},
   "source": [
    "## Your actor implementation"
   ]
  },
  {
   "cell_type": "code",
   "execution_count": 67,
   "id": "indian-magazine",
   "metadata": {},
   "outputs": [],
   "source": [
    "# TODO implement actor\n",
    "# Actor should be a class that allows for message sending and receiving "
   ]
  },
  {
   "cell_type": "markdown",
   "id": "extensive-perspective",
   "metadata": {},
   "source": [
    "## Model running"
   ]
  },
  {
   "cell_type": "code",
   "execution_count": null,
   "id": "thick-platform",
   "metadata": {},
   "outputs": [],
   "source": [
    "# TODO run model, accumulate some statistics\n",
    "# Proposed stats are: \n",
    "# 1. Connection stability (stability metric could be connection lifetime divided over the simulation length) equipped with standard stat tools (mean, stdev, median, possibly distribution, smth else)\n",
    "# 2. Stats on message delivery efficiency (percentage of successful deliveries, for instance) "
   ]
  },
  {
   "cell_type": "markdown",
   "id": "early-payment",
   "metadata": {},
   "source": [
    "## Statistics"
   ]
  },
  {
   "cell_type": "code",
   "execution_count": null,
   "id": "dominican-profit",
   "metadata": {},
   "outputs": [],
   "source": [
    "# TODO Show collected stats "
   ]
  }
 ],
 "metadata": {
  "kernelspec": {
   "display_name": "Python 3",
   "language": "python",
   "name": "python3"
  },
  "language_info": {
   "codemirror_mode": {
    "name": "ipython",
    "version": 3
   },
   "file_extension": ".py",
   "mimetype": "text/x-python",
   "name": "python",
   "nbconvert_exporter": "python",
   "pygments_lexer": "ipython3",
   "version": "3.9.1"
  }
 },
 "nbformat": 4,
 "nbformat_minor": 5
}
