{
 "cells": [
  {
   "cell_type": "markdown",
   "id": "metallic-variety",
   "metadata": {},
   "source": [
    "# Ad-hoc network model \n",
    "## Imports"
   ]
  },
  {
   "cell_type": "code",
   "execution_count": 17,
   "id": "insured-harrison",
   "metadata": {},
   "outputs": [],
   "source": [
    "import numpy as np\n",
    "import pandas as pd \n",
    "import ipywidgets as widgets\n",
    "import seaborn as sns\n",
    "import matplotlib.pyplot as plt\n",
    "import concurrent.futures as futures\n",
    "from tqdm.notebook import tqdm\n",
    "from multiprocessing import Pool\n",
    "\n",
    "\n",
    "from time import sleep"
   ]
  },
  {
   "cell_type": "markdown",
   "id": "stuffed-country",
   "metadata": {},
   "source": [
    "## Loading data"
   ]
  },
  {
   "cell_type": "code",
   "execution_count": 2,
   "id": "filled-chick",
   "metadata": {},
   "outputs": [
    {
     "data": {
      "application/vnd.jupyter.widget-view+json": {
       "model_id": "a1ebf845e4d74d10a0d123051cc81dc9",
       "version_major": 2,
       "version_minor": 0
      },
      "text/plain": [
       "BoundedIntText(value=1, description='Number of datasets:', max=16, min=1)"
      ]
     },
     "metadata": {},
     "output_type": "display_data"
    }
   ],
   "source": [
    "number_of_datasets = widgets.BoundedIntText(\n",
    "    text = 1,\n",
    "    min = 1,\n",
    "    max = 16,\n",
    "    step = 1,\n",
    "    description = \"Number of datasets:\")\n",
    "\n",
    "display(number_of_datasets)"
   ]
  },
  {
   "cell_type": "code",
   "execution_count": 3,
   "id": "floral-township",
   "metadata": {},
   "outputs": [
    {
     "data": {
      "application/vnd.jupyter.widget-view+json": {
       "model_id": "262b952e51614d1d951b963f11f16486",
       "version_major": 2,
       "version_minor": 0
      },
      "text/plain": [
       "Text(value='', placeholder='Path to .csv file')"
      ]
     },
     "metadata": {},
     "output_type": "display_data"
    },
    {
     "data": {
      "application/vnd.jupyter.widget-view+json": {
       "model_id": "190085f6f6e94e92a18356e03619fd74",
       "version_major": 2,
       "version_minor": 0
      },
      "text/plain": [
       "Text(value='', placeholder='Path to .csv file')"
      ]
     },
     "metadata": {},
     "output_type": "display_data"
    },
    {
     "data": {
      "application/vnd.jupyter.widget-view+json": {
       "model_id": "dc0f31eb35df4882a4e273764de471e3",
       "version_major": 2,
       "version_minor": 0
      },
      "text/plain": [
       "Text(value='', placeholder='Path to .csv file')"
      ]
     },
     "metadata": {},
     "output_type": "display_data"
    },
    {
     "data": {
      "application/vnd.jupyter.widget-view+json": {
       "model_id": "21fa52c6661e43ed9c95bc1e3c8866c8",
       "version_major": 2,
       "version_minor": 0
      },
      "text/plain": [
       "Text(value='', placeholder='Path to .csv file')"
      ]
     },
     "metadata": {},
     "output_type": "display_data"
    }
   ],
   "source": [
    "csv_paths = list()\n",
    "for i in range(number_of_datasets.value):\n",
    "    csv_paths.append(widgets.Text(placeholder=\"Path to .csv file\"))\n",
    "    display(csv_paths[i])"
   ]
  },
  {
   "cell_type": "code",
   "execution_count": 4,
   "id": "civil-attribute",
   "metadata": {},
   "outputs": [],
   "source": [
    "data = list()\n",
    "\n",
    "for csv_path in csv_paths:\n",
    "    data.append(pd.read_csv(csv_path.value))"
   ]
  },
  {
   "cell_type": "markdown",
   "id": "applicable-alarm",
   "metadata": {},
   "source": [
    "## Preprocessing\n",
    "\n",
    "The goal here is to filter redundant objects (for example, objects that are currently chilling in the object pool) and split data into small pieces by the timeframe "
   ]
  },
  {
   "cell_type": "code",
   "execution_count": 5,
   "id": "boxed-atmosphere",
   "metadata": {},
   "outputs": [],
   "source": [
    "filtered_data = list(map(lambda data: data[data.z != -100.0], data)) # Preserve only the objects that are currently somewhere on the map\n",
    "\n",
    "# frames = list(map(lambda data: data.groupby('timestamp'), filtered_data)) # Group data into dataframes with equal timestamp, now each group is a snapshot of a moment in time during recording\n",
    "# group_keys = list(map(lambda frames: frames.groups.keys(), frames)) # Now we can iterate over groups"
   ]
  },
  {
   "cell_type": "markdown",
   "id": "departmental-ocean",
   "metadata": {
    "tags": []
   },
   "source": [
    "## Model setup"
   ]
  },
  {
   "cell_type": "code",
   "execution_count": 6,
   "id": "tropical-focus",
   "metadata": {},
   "outputs": [
    {
     "data": {
      "application/vnd.jupyter.widget-view+json": {
       "model_id": "6b813db8a5294b629c08025e23ba2939",
       "version_major": 2,
       "version_minor": 0
      },
      "text/plain": [
       "BoundedFloatText(value=0.0, description='Distance:', max=1000.0, step=1.0)"
      ]
     },
     "metadata": {},
     "output_type": "display_data"
    }
   ],
   "source": [
    "# TODO widget for parameter initialization\n",
    "# Proposed parameters are: Connectivity distance, something about message generation frequency, ???\n",
    "connectivity_dist = widgets.BoundedFloatText(\n",
    "    text = 0.0,\n",
    "    min = 0.0,\n",
    "    max = 1000.0,\n",
    "    step = 1,\n",
    "    description = \"Distance:\",\n",
    "    disabled = False)\n",
    "\n",
    "display(connectivity_dist)"
   ]
  },
  {
   "cell_type": "markdown",
   "id": "conceptual-humor",
   "metadata": {},
   "source": [
    "## Your actor implementation"
   ]
  },
  {
   "cell_type": "code",
   "execution_count": 7,
   "id": "obvious-boring",
   "metadata": {},
   "outputs": [],
   "source": [
    "# TODO Come up with actor interface \n",
    "# TODO implement actor. It should be capable of handling high-level shit like sending message to other use and low-level shit like routing messages inside the network\n",
    "# Are there obvious and correct implementation of the high-level functions that is irrelevant to the protocol of choice? If there is, we should implement them independently of the algo impl (via inheritance)\n",
    "class Actor:\n",
    "    def __init__():\n",
    "        pass"
   ]
  },
  {
   "cell_type": "markdown",
   "id": "celtic-variation",
   "metadata": {},
   "source": [
    "## Model running"
   ]
  },
  {
   "cell_type": "code",
   "execution_count": 18,
   "id": "bright-general",
   "metadata": {},
   "outputs": [],
   "source": [
    "# TODO run model, accumulate some statistics\n",
    "# Proposed stats are: \n",
    "# 1. Connection stability (stability metric could be connection lifetime divided over the simulation length) equipped with standard stat tools (mean, stdev, median, possibly distribution, smth else)\n",
    "# 2. Stats on message delivery efficiency (percentage of successful deliveries, for instance)\n",
    "\n",
    "# TODO wrap everything up in a function, possibly use something like futures in order to parallelize computations for different datasets, in order to allow for parallel processing of many datasets in order to speed up the whole thing\n",
    "\n",
    "# Calculate distance between two people\n",
    "def distance(p1, p2):\n",
    "    return ((p1.x - p2.x) * (p1.x - p2.x) + (p1.y - p2.y) * (p1.y - p2.y) + (p1.z - p2.z) * (p1.z - p2.z)) ** (1/2)\n",
    "\n",
    "# Initialize structures for collecting adjacency data\n",
    "def process_data(filtered_data):\n",
    "    print(' ', end='', flush=True) # Hack to allow for multiple progress bars\n",
    "    \n",
    "    frames = filtered_data.groupby('timestamp')\n",
    "    group_keys = frames.groups.keys()\n",
    "    \n",
    "    ids = filtered_data['id'].unique() # IDs of users\n",
    "\n",
    "    def first(i, j):\n",
    "        return min(ids[i], ids[j])\n",
    "\n",
    "    def second(i, j):\n",
    "        return max(ids[i], ids[j])\n",
    "\n",
    "    # Structure that contains info regarding whether two people were previously connected with one another (Timeframe of connection launch, None otherwise)\n",
    "    connected = dict()\n",
    "\n",
    "    for cur_id in ids:\n",
    "        connected[cur_id] = dict()\n",
    "\n",
    "    for i in range(len(ids)):\n",
    "        for j in range(i + 1, len(ids)): # Iterate over the distinct pairs of people\n",
    "            connected[first(i, j)][second(i, j)] = None # Initialize all pairs as not connected\n",
    "\n",
    "    # Structure that contains info about each connection (two connections between the same two people are distinct iff there exists a snapshot where they aren't connected)\n",
    "    # The sequence A <-> B, A <-> B, A <-/-> B, A <-> B contains two connections between A and B\n",
    "    connections = list() \n",
    "    prev_timestamp = 0\n",
    "\n",
    "    # Nested loops go brrrr (Can we parallelize this piece of shit? Even a little bit?)\n",
    "    for timestamp in tqdm(group_keys): # Iterating over timestamp\n",
    "        # TODO calculate connections between different people in the current timeframe\n",
    "        snapshot = frames.get_group(timestamp) # Get a snapshot of a timestamp\n",
    "\n",
    "        current_connectivity = dict()\n",
    "        for cur_id in ids:\n",
    "            current_connectivity[cur_id] = dict()\n",
    "\n",
    "        for i in range(len(ids)):\n",
    "            for j in range(i + 1, len(ids)):\n",
    "                current_connectivity[first(i, j)][second(i, j)] = False\n",
    "\n",
    "\n",
    "        for i in range(snapshot.shape[0]):\n",
    "            for j in range(i + 1, snapshot.shape[0]): # Iterate over distinct ordered pairs of people \n",
    "                p1 = snapshot.iloc[i]\n",
    "                p2 = snapshot.iloc[j]\n",
    "                dist = distance(p1, p2)\n",
    "                if dist < connectivity_dist.value: # If there is connection present\n",
    "                    current_connectivity[min(p1.id, p2.id)][max(p1.id, p2.id)] = True # Mark it is connected\n",
    "\n",
    "        for i in range(len(ids)):\n",
    "            for j in range(i + 1, len(ids)):\n",
    "                a = first(i, j)\n",
    "                b = second(i, j)\n",
    "\n",
    "                if current_connectivity[a][b]: # If a connection is present \n",
    "                    if connected[a][b] is None: # And it is a new one\n",
    "                        connected[a][b] = timestamp # Add it\n",
    "                elif connected[a][b] is not None: # Otherwise, if the conneciton had just died \n",
    "                    connections.append({'p1': a, 'p2': b, 'timestamp': connected[a][b], 'lifespan': prev_timestamp - connected[a][b]}) # Record connection stats\n",
    "                    current_connectivity[a][b] = None # Delete connection\n",
    "        # Now iterate over all the ids in order to figure out the connections that were dropped out \n",
    "\n",
    "        # TODO check for new/removed connections and update lifetime accordingly\n",
    "        # TODO run shit like message requests etc and call according functions of the actors\n",
    "        # Possibly (somehow?) add message throughput limit so that the graph updates would actually influence message routing procedure. Should prolly discuss the best implementation with other project participants.\n",
    "        prev_timestamp = timestamp\n",
    "        pass\n",
    "\n",
    "    # Close all the connections that are still present\n",
    "    for i in range(len(ids)):\n",
    "        for j in range(i + 1, len(ids)):\n",
    "            a = first(i, j)\n",
    "            b = second(i, j)\n",
    "\n",
    "            if connected[a][b] is not None:\n",
    "                connections.append({'p1': a, 'p2': b, 'timestamp': connected[a][b], 'lifespan': prev_timestamp - connected[a][b]}) # Record connection stats\n",
    "    #             print(\"Added connection info\")\n",
    "                connected[a][b] = None\n",
    "        \n",
    "    return pd.DataFrame(connections)\n",
    "\n",
    "conn_datas = list()\n",
    "# for i in range(number_of_datasets.value):\n",
    "#     conn_datas.append(process_data(filtered_data[i], frames[i], group_keys[i]))\n",
    "\n",
    "conn_datas_promise = list()\n",
    "\n",
    "# with futures.ThreadPoolExecutor(max_workers=4) as e:\n",
    "#     for i in range(number_of_datasets.value):\n",
    "#         conn_datas_promise.append(e.submit(process_data, filtered_data[i], frames[i], group_keys[i]))"
   ]
  },
  {
   "cell_type": "code",
   "execution_count": 38,
   "id": "thrown-person",
   "metadata": {},
   "outputs": [
    {
     "name": "stdout",
     "output_type": "stream",
     "text": [
      "    "
     ]
    },
    {
     "data": {
      "application/vnd.jupyter.widget-view+json": {
       "model_id": "23ca5f9c594e44278036750ce0f3e7ed",
       "version_major": 2,
       "version_minor": 0
      },
      "text/plain": [
       "  0%|          | 0/618 [00:00<?, ?it/s]"
      ]
     },
     "metadata": {},
     "output_type": "display_data"
    },
    {
     "data": {
      "application/vnd.jupyter.widget-view+json": {
       "model_id": "0d15252a2d4149f591b6818f54855afa",
       "version_major": 2,
       "version_minor": 0
      },
      "text/plain": [
       "  0%|          | 0/621 [00:00<?, ?it/s]"
      ]
     },
     "metadata": {},
     "output_type": "display_data"
    },
    {
     "data": {
      "application/vnd.jupyter.widget-view+json": {
       "model_id": "2c67aa5e0a284980a4eb0509117c3ce5",
       "version_major": 2,
       "version_minor": 0
      },
      "text/plain": [
       "  0%|          | 0/618 [00:00<?, ?it/s]"
      ]
     },
     "metadata": {},
     "output_type": "display_data"
    },
    {
     "data": {
      "application/vnd.jupyter.widget-view+json": {
       "model_id": "ff2119f3b3c942768cea54ef6f4b0d8b",
       "version_major": 2,
       "version_minor": 0
      },
      "text/plain": [
       "  0%|          | 0/643 [00:00<?, ?it/s]"
      ]
     },
     "metadata": {},
     "output_type": "display_data"
    }
   ],
   "source": [
    "pool = Pool(4)"
   ]
  },
  {
   "cell_type": "code",
   "execution_count": 39,
   "id": "retained-project",
   "metadata": {},
   "outputs": [],
   "source": [
    "res = pool.map(process_data, filtered_data)"
   ]
  },
  {
   "cell_type": "code",
   "execution_count": 40,
   "id": "coordinate-prague",
   "metadata": {},
   "outputs": [
    {
     "data": {
      "text/plain": [
       "[            p1      p2  timestamp  lifespan\n",
       " 0       168194  536322          0         0\n",
       " 1       535298  543490          0         0\n",
       " 2       169730  544002          0       516\n",
       " 3        14082  168194          0       516\n",
       " 4        14338  168194          0       516\n",
       " ...        ...     ...        ...       ...\n",
       " 872976   26115  773122     310715      4085\n",
       " 872977   17667  773122     310715      4085\n",
       " 872978   13059   13827     311236      3564\n",
       " 872979   13059   26883     311236      3564\n",
       " 872980   13827   26883     311236      3564\n",
       " \n",
       " [872981 rows x 4 columns],\n",
       "             p1      p2  timestamp  lifespan\n",
       " 0         9986   11266          0         0\n",
       " 1        12034   13826          0         0\n",
       " 2        13826   18946          0         0\n",
       " 3         7426   13314          0       516\n",
       " 4         9986   11266          0       516\n",
       " ...        ...     ...        ...       ...\n",
       " 805184  128258  129026     309922      3024\n",
       " 805185  128258  129282     310436      2510\n",
       " 805186  128770  129026     309922      3024\n",
       " 805187  128770  129282     310436      2510\n",
       " 805188  129026  129282     310436      2510\n",
       " \n",
       " [805189 rows x 4 columns],\n",
       "             p1      p2  timestamp  lifespan\n",
       " 0       359938  380930          0         0\n",
       " 1       359938  380930          0       500\n",
       " 2       323842  337666          0       500\n",
       " 3       339458  351490          0       500\n",
       " 4       326914  382722          0      1001\n",
       " ...        ...     ...        ...       ...\n",
       " 628614  443138  443906     292273     17714\n",
       " 628615  443138  444674     297814     12173\n",
       " 628616  443138  444930     298314     11673\n",
       " 628617  444162  444418     294792     15195\n",
       " 628618  444674  444930     298314     11673\n",
       " \n",
       " [628619 rows x 4 columns],\n",
       "              p1      p2  timestamp  lifespan\n",
       " 0        183556  194564          0         0\n",
       " 1        178436  183556          0         0\n",
       " 2        152580  185092          0         0\n",
       " 3        146180  183556          0         0\n",
       " 4        163076  183556          0         0\n",
       " ...         ...     ...        ...       ...\n",
       " 2554944  396292  448004     322564      1001\n",
       " 2554945  396292  429572     323064       501\n",
       " 2554946  369668  448004     322564      1001\n",
       " 2554947  369668  429572     323064       501\n",
       " 2554948  429572  448004     323064       501\n",
       " \n",
       " [2554949 rows x 4 columns]]"
      ]
     },
     "execution_count": 40,
     "metadata": {},
     "output_type": "execute_result"
    }
   ],
   "source": [
    "res"
   ]
  },
  {
   "cell_type": "markdown",
   "id": "equipped-frame",
   "metadata": {},
   "source": [
    "#### Statistics"
   ]
  },
  {
   "cell_type": "code",
   "execution_count": null,
   "id": "greenhouse-sheet",
   "metadata": {},
   "outputs": [],
   "source": [
    "# TODO Show collected stats \n",
    "conn_data = conn_datas[3]\n"
   ]
  },
  {
   "cell_type": "code",
   "execution_count": 49,
   "id": "cheap-cooler",
   "metadata": {},
   "outputs": [
    {
     "data": {
      "image/png": "[encoded data removed]",
      "text/plain": [
       "<Figure size 720x1728 with 4 Axes>"
      ]
     },
     "metadata": {},
     "output_type": "display_data"
    }
   ],
   "source": [
    "plt.style.use(\"dark_background\")\n",
    "fig, axs = plt.subplots(4, figsize=(10, 24))\n",
    "\n",
    "for i in range(len(res)):\n",
    "    mean_lifespan = res[i]['lifespan'].mean()\n",
    "    median_lifespan = res[i]['lifespan'].median()\n",
    "    stdev_lifespan = res[i]['lifespan'].std()\n",
    "\n",
    "    sns.histplot(res[i], x=\"lifespan\", ax=axs[i])\n",
    "\n",
    "    axs[i].axvline(mean_lifespan, color=\"r\", label=\"Mean\")\n",
    "    axs[i].axvline(median_lifespan, color=\"lime\", label=\"Median\")\n",
    "    axs[i].legend()\n",
    "\n",
    "#     print(\"Mean lifespan:\", mean_lifespan)\n",
    "#     print(\"lifespan stdev:\", stdev_lifespan)\n",
    "\n"
   ]
  },
  {
   "cell_type": "code",
   "execution_count": 36,
   "id": "perceived-assist",
   "metadata": {},
   "outputs": [
    {
     "data": {
      "text/plain": [
       "[]"
      ]
     },
     "execution_count": 36,
     "metadata": {},
     "output_type": "execute_result"
    }
   ],
   "source": [
    "conn_datas"
   ]
  },
  {
   "cell_type": "code",
   "execution_count": null,
   "id": "gentle-davis",
   "metadata": {},
   "outputs": [],
   "source": [
    "conn_data[conn_data.lifespan == 50000].size"
   ]
  },
  {
   "cell_type": "code",
   "execution_count": null,
   "id": "painted-computer",
   "metadata": {},
   "outputs": [],
   "source": [
    "conn_data"
   ]
  },
  {
   "cell_type": "code",
   "execution_count": null,
   "id": "extreme-regard",
   "metadata": {},
   "outputs": [],
   "source": [
    "101012/314800"
   ]
  },
  {
   "cell_type": "code",
   "execution_count": null,
   "id": "julian-morris",
   "metadata": {},
   "outputs": [],
   "source": [
    "len(ids)"
   ]
  },
  {
   "cell_type": "code",
   "execution_count": null,
   "id": "plastic-bosnia",
   "metadata": {},
   "outputs": [],
   "source": [
    "a = list()\n",
    "a.append(10)"
   ]
  },
  {
   "cell_type": "code",
   "execution_count": null,
   "id": "norwegian-roman",
   "metadata": {},
   "outputs": [],
   "source": [
    "a"
   ]
  },
  {
   "cell_type": "code",
   "execution_count": null,
   "id": "technological-shanghai",
   "metadata": {},
   "outputs": [],
   "source": []
  }
 ],
 "metadata": {
  "kernelspec": {
   "display_name": "Python 3",
   "language": "python",
   "name": "python3"
  },
  "language_info": {
   "codemirror_mode": {
    "name": "ipython",
    "version": 3
   },
   "file_extension": ".py",
   "mimetype": "text/x-python",
   "name": "python",
   "nbconvert_exporter": "python",
   "pygments_lexer": "ipython3",
   "version": "3.9.1"
  }
 },
 "nbformat": 4,
 "nbformat_minor": 5
}
